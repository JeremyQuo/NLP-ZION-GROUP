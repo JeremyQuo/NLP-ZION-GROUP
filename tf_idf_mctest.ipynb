{
 "cells": [
  {
   "cell_type": "code",
   "execution_count": 1,
   "metadata": {},
   "outputs": [],
   "source": [
    "import pandas as pd\n",
    "from gensim import corpora, models, similarities\n",
    "from nltk.tokenize import TweetTokenizer\n",
    "import numpy as np\n",
    "import matplotlib.pyplot as plt\n",
    "import seaborn as sns"
   ]
  },
  {
   "cell_type": "code",
   "execution_count": 2,
   "metadata": {},
   "outputs": [],
   "source": [
    "train_df = pd.read_csv('std_data/MCTest/mc500/mc500.test.csv',index_col=0)"
   ]
  },
  {
   "cell_type": "code",
   "execution_count": 3,
   "metadata": {},
   "outputs": [
    {
     "name": "stdout",
     "output_type": "stream",
     "text": [
      "['id', 'author', 'work_times', 'article', 'question_type', 'question', 'A', 'B', 'C', 'D', 'answer']\n"
     ]
    }
   ],
   "source": [
    "#train_df = train_df[(train_df.question_type=='one')].reset_index(drop=True)\n",
    "print(list(train_df.columns))\n"
   ]
  },
  {
   "cell_type": "code",
   "execution_count": 4,
   "metadata": {},
   "outputs": [],
   "source": [
    "from nltk.corpus import stopwords \n",
    "from nltk.tokenize import word_tokenize \n",
    "stop_words = set(stopwords.words('english')) \n",
    "\n",
    "def rmv_stwd(sentence):\n",
    "    return [w for w in sentence if not w in stop_words] \n",
    "    \n",
    "\n",
    "def compare(options,query,argmax=True):\n",
    "    options = [word_tokenize(t.lower()) for t in  options] #lower + tokenise\n",
    "    #options = [rmv_stwd(opt) for opt in options] \n",
    "    \n",
    "    dictionary = corpora.Dictionary(options)\n",
    "    feature_cnt = len(dictionary.token2id)\n",
    "    corpus = [dictionary.doc2bow(opt) for opt in options]\n",
    "    tfidf = models.TfidfModel(corpus) \n",
    "\n",
    "    kw_vector = dictionary.doc2bow(word_tokenize(query.lower()))\n",
    "    index = similarities.SparseMatrixSimilarity(tfidf[corpus], num_features = feature_cnt)\n",
    "    sim = index[tfidf[kw_vector]]\n",
    "    if argmax:\n",
    "        return np.argmax(sim)\n",
    "    return sim"
   ]
  },
  {
   "cell_type": "code",
   "execution_count": 5,
   "metadata": {},
   "outputs": [
    {
     "name": "stdout",
     "output_type": "stream",
     "text": [
      "Passage: It was Sally's birthday. She was very excited. She was going to have a sleepover at her house for her birthday. She invited all of her best friends. The party was at 1 on Saturday. Jessica, Erin, and Cathy all arrived at 1, but Jennifer was late. She did not come until 2, because she could not find her other shoe. The first thing they all did was go swimming in her pool. They had so much fun. They played with the foam noodles in the pool. Erin accidentally kicked Jennifer's leg in the pool. After they swam, everyone rinsed off and went inside. They ate cake, opened presents, and watched TV. After it got dark, they ran up and down the stairway, played telephone, and told spooky stories. Sally tripped going down the stairs and hurt her foot, but it felt better soon after. Cathy got scared when they were telling stories, and wanted to call her mom to go home. The other girls told her that it is only a story. She felt better. They all fell asleep at 11. Sally was the first to wake up at 8 in the morning. She made pancakes for her and her friends. They all loved the pancakes, except Erin. She ate some fruit instead. At 10, all the girls went back home. Sally was happy that she had such a great birthday party.\n",
      "\n",
      "Question: What time did the party start?\n",
      "Options: \n",
      "A: 10\n",
      "B: 2\n",
      "C: 11\n",
      "D: 1\n",
      "Expected Answer: D\n",
      "------\n",
      "Model Prediction\n",
      "Most related sentence:  The party was at 1 on Saturday\n",
      "Predicted Answer: D\n"
     ]
    }
   ],
   "source": [
    "i=0\n",
    "print(\"Passage: \" + train_df['article'][i] +\"\\n\")\n",
    "print(\"Question: \" + train_df['question'][i])\n",
    "\n",
    "\n",
    "options = [train_df['A'][i],train_df['B'][i],train_df['C'][i],train_df['D'][i]]\n",
    "print(\"Options: \")\n",
    "print(\"A: \" + train_df['A'][i])\n",
    "print(\"B: \" + train_df['B'][i])\n",
    "print(\"C: \" + train_df['C'][i])\n",
    "print(\"D: \" + train_df['D'][i])\n",
    "\n",
    "print(\"Expected Answer: \" + train_df['answer'][i])\n",
    "\n",
    "print(\"------\")\n",
    "print(\"Model Prediction\")\n",
    "most_related_sent = compare(train_df['article'][i].split('.'),train_df['question'][i])\n",
    "print(\"Most related sentence: \" + train_df['article'][i].split('.')[most_related_sent])\n",
    "most_related_ans=compare(options,train_df['article'][i].split('.')[most_related_sent])\n",
    "from sklearn import preprocessing\n",
    "le = preprocessing.LabelEncoder()\n",
    "le.fit_transform(train_df['answer'])[i]\n",
    "le.inverse_transform([most_related_ans])[0]\n",
    "print(\"Predicted Answer: \" + le.inverse_transform([most_related_ans])[0])\n",
    "\n",
    "\n"
   ]
  },
  {
   "cell_type": "code",
   "execution_count": 6,
   "metadata": {},
   "outputs": [],
   "source": [
    "n = 1 #related sentences\n",
    "y_pred = []\n",
    "for i in range(len(train_df)):\n",
    "    try:\n",
    "        sentences = train_df['article'][i].split('.')\n",
    "        # find 3 most related sentence\n",
    "        arr = compare(sentences,train_df['question'][i],False)\n",
    "        idx = (-arr).argsort()[:n]\n",
    "\n",
    "        #most_relevant_s = sentences[idx]\n",
    "        most_relevant_s = '.'.join([sentences[i] for i in idx])\n",
    "\n",
    "        options = [train_df['A'][i],train_df['B'][i],train_df['C'][i],train_df['D'][i]]\n",
    "        y_pred.append(compare(options,most_relevant_s))\n",
    "    except Exception as e :\n",
    "        print(e)\n",
    "        y_pred.append('e')"
   ]
  },
  {
   "cell_type": "code",
   "execution_count": 7,
   "metadata": {},
   "outputs": [],
   "source": [
    "y_true = train_df['answer']\n",
    "y_pred = le.inverse_transform(y_pred)"
   ]
  },
  {
   "cell_type": "code",
   "execution_count": 8,
   "metadata": {},
   "outputs": [
    {
     "name": "stdout",
     "output_type": "stream",
     "text": [
      "Classification Report:\n",
      "              precision    recall  f1-score   support\n",
      "\n",
      "           A       0.36      0.75      0.49       141\n",
      "           B       0.56      0.36      0.44       146\n",
      "           C       0.58      0.45      0.50       145\n",
      "           D       0.60      0.36      0.45       168\n",
      "\n",
      "    accuracy                           0.47       600\n",
      "   macro avg       0.53      0.48      0.47       600\n",
      "weighted avg       0.53      0.47      0.47       600\n",
      "\n"
     ]
    }
   ],
   "source": [
    "from sklearn.metrics import accuracy_score, classification_report, confusion_matrix\n",
    "\n",
    "print('Classification Report:')\n",
    "print(classification_report(y_true, y_pred, labels=le.classes_))"
   ]
  },
  {
   "cell_type": "code",
   "execution_count": 45,
   "metadata": {},
   "outputs": [
    {
     "data": {
      "text/plain": [
       "[Text(0, 0.5, 'A'), Text(0, 1.5, 'B'), Text(0, 2.5, 'C'), Text(0, 3.5, 'D')]"
      ]
     },
     "execution_count": 45,
     "metadata": {},
     "output_type": "execute_result"
    },
    {
     "data": {
      "image/png": "[encoded data removed]",
      "text/plain": [
       "<Figure size 432x288 with 2 Axes>"
      ]
     },
     "metadata": {
      "needs_background": "light"
     },
     "output_type": "display_data"
    }
   ],
   "source": [
    "cm = confusion_matrix(y_true, y_pred, labels=le.classes_)\n",
    "ax= plt.subplot()\n",
    "sns.heatmap(cm, annot=True, ax = ax, cmap='Blues', fmt=\"d\")\n",
    "ax.set_title('Confusion Matrix')\n",
    "ax.set_xlabel('Predicted Labels')\n",
    "ax.set_ylabel('True Labels')\n",
    "ax.xaxis.set_ticklabels(le.classes_)\n",
    "ax.yaxis.set_ticklabels(le.classes_)"
   ]
  },
  {
   "cell_type": "code",
   "execution_count": null,
   "metadata": {},
   "outputs": [],
   "source": []
  },
  {
   "cell_type": "code",
   "execution_count": null,
   "metadata": {},
   "outputs": [],
   "source": []
  }
 ],
 "metadata": {
  "kernelspec": {
   "display_name": "Python 3.7.3 64-bit ('base': conda)",
   "language": "python",
   "name": "python37364bitbaseconda69d9710365c043c5b89d0ae8c5eef1cc"
  },
  "language_info": {
   "codemirror_mode": {
    "name": "ipython",
    "version": 3
   },
   "file_extension": ".py",
   "mimetype": "text/x-python",
   "name": "python",
   "nbconvert_exporter": "python",
   "pygments_lexer": "ipython3",
   "version": "3.7.3"
  }
 },
 "nbformat": 4,
 "nbformat_minor": 2
}

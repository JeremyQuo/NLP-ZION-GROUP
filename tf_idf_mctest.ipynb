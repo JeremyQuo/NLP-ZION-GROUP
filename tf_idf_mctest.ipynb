{
 "cells": [
  {
   "cell_type": "code",
   "execution_count": 262,
   "metadata": {},
   "outputs": [],
   "source": [
    "import pandas as pd\n",
    "from gensim import corpora, models, similarities\n",
    "from nltk.tokenize import TweetTokenizer\n",
    "import numpy as np\n",
    "import matplotlib.pyplot as plt\n",
    "import seaborn as sns"
   ]
  },
  {
   "cell_type": "code",
   "execution_count": 263,
   "metadata": {},
   "outputs": [],
   "source": [
    "train_df = pd.read_csv('std_data/MCTest/mc500/mc500.train.csv',index_col=0)"
   ]
  },
  {
   "cell_type": "code",
   "execution_count": 264,
   "metadata": {},
   "outputs": [],
   "source": [
    "#train_df = train_df[(train_df.question_type=='one')].reset_index(drop=True)\n",
    "#train_df.head()"
   ]
  },
  {
   "cell_type": "code",
   "execution_count": 277,
   "metadata": {},
   "outputs": [],
   "source": [
    "from nltk.corpus import stopwords \n",
    "from nltk.tokenize import word_tokenize \n",
    "stop_words = set(stopwords.words('english')) \n",
    "\n",
    "def rmv_stwd(sentence):\n",
    "    return [w for w in sentence if not w in stop_words] \n",
    "    \n",
    "\n",
    "def compare(options,query,argmax=True):\n",
    "    options = [word_tokenize(t.lower()) for t in  options] #lower + tokenise\n",
    "    #options = [rmv_stwd(opt) for opt in options] \n",
    "    \n",
    "    dictionary = corpora.Dictionary(options)\n",
    "    feature_cnt = len(dictionary.token2id)\n",
    "    corpus = [dictionary.doc2bow(opt) for opt in options]\n",
    "    tfidf = models.TfidfModel(corpus) \n",
    "\n",
    "    kw_vector = dictionary.doc2bow(word_tokenize(query.lower()))\n",
    "    index = similarities.SparseMatrixSimilarity(tfidf[corpus], num_features = feature_cnt)\n",
    "    sim = index[tfidf[kw_vector]]\n",
    "    if argmax:\n",
    "        return np.argmax(sim)\n",
    "    return sim\n",
    "\n"
   ]
  },
  {
   "cell_type": "code",
   "execution_count": 285,
   "metadata": {},
   "outputs": [
    {
     "data": {
      "text/plain": [
       "4"
      ]
     },
     "execution_count": 285,
     "metadata": {},
     "output_type": "execute_result"
    }
   ],
   "source": [
    "compare(train_df['article'][1].split('.'),train_df['question'][1])"
   ]
  },
  {
   "cell_type": "code",
   "execution_count": 286,
   "metadata": {},
   "outputs": [
    {
     "data": {
      "text/plain": [
       "'Why did Alyssa go to Miami?'"
      ]
     },
     "execution_count": 286,
     "metadata": {},
     "output_type": "execute_result"
    }
   ],
   "source": [
    "train_df['question'][1]"
   ]
  },
  {
   "cell_type": "code",
   "execution_count": 287,
   "metadata": {},
   "outputs": [
    {
     "data": {
      "text/plain": [
       "\" She's now in Miami\""
      ]
     },
     "execution_count": 287,
     "metadata": {},
     "output_type": "execute_result"
    }
   ],
   "source": [
    "train_df['article'][1].split('.')[3]"
   ]
  },
  {
   "cell_type": "code",
   "execution_count": 284,
   "metadata": {},
   "outputs": [
    {
     "data": {
      "text/plain": [
       "1"
      ]
     },
     "execution_count": 284,
     "metadata": {},
     "output_type": "execute_result"
    }
   ],
   "source": [
    "options = [train_df['A'][0],train_df['B'][0],train_df['C'][0],train_df['D'][0]]\n",
    "compare(options,train_df['article'][0].split('.')[3])"
   ]
  },
  {
   "cell_type": "code",
   "execution_count": 270,
   "metadata": {},
   "outputs": [
    {
     "data": {
      "text/plain": [
       "1"
      ]
     },
     "execution_count": 270,
     "metadata": {},
     "output_type": "execute_result"
    }
   ],
   "source": [
    "from sklearn import preprocessing\n",
    "le = preprocessing.LabelEncoder()\n",
    "le.fit_transform(train_df['answer'])[0]"
   ]
  },
  {
   "cell_type": "code",
   "execution_count": 271,
   "metadata": {},
   "outputs": [],
   "source": [
    "n = 4 #related sentences\n",
    "y_pred = []\n",
    "for i in range(len(train_df)):\n",
    "    try:\n",
    "        sentences = train_df['article'][i].split('.')\n",
    "        # find 3 most related sentence\n",
    "        arr = compare(sentences,train_df['question'][i],False)\n",
    "        idx = (-arr).argsort()[:n]\n",
    "\n",
    "        #most_relevant_s = sentences[idx]\n",
    "        most_relevant_s = '.'.join([sentences[i] for i in idx])\n",
    "\n",
    "        options = [train_df['A'][i],train_df['B'][i],train_df['C'][i],train_df['D'][i]]\n",
    "        y_pred.append(compare(options,most_relevant_s))\n",
    "    except Exception as e :\n",
    "        print(e)\n",
    "        y_pred.append('e')"
   ]
  },
  {
   "cell_type": "code",
   "execution_count": 272,
   "metadata": {},
   "outputs": [],
   "source": [
    "y_true = train_df['answer']\n",
    "y_pred = le.inverse_transform(y_pred)"
   ]
  },
  {
   "cell_type": "code",
   "execution_count": 273,
   "metadata": {},
   "outputs": [
    {
     "name": "stdout",
     "output_type": "stream",
     "text": [
      "Classification Report:\n",
      "              precision    recall  f1-score   support\n",
      "\n",
      "           A       0.39      0.63      0.48       288\n",
      "           B       0.50      0.49      0.50       283\n",
      "           C       0.58      0.44      0.50       303\n",
      "           D       0.56      0.40      0.46       326\n",
      "\n",
      "    accuracy                           0.48      1200\n",
      "   macro avg       0.51      0.49      0.49      1200\n",
      "weighted avg       0.51      0.48      0.48      1200\n",
      "\n"
     ]
    }
   ],
   "source": [
    "from sklearn.metrics import accuracy_score, classification_report, confusion_matrix\n",
    "\n",
    "print('Classification Report:')\n",
    "print(classification_report(y_true, y_pred, labels=le.classes_))"
   ]
  },
  {
   "cell_type": "code",
   "execution_count": 274,
   "metadata": {},
   "outputs": [
    {
     "data": {
      "text/plain": [
       "[Text(0, 0.5, 'A'), Text(0, 1.5, 'B'), Text(0, 2.5, 'C'), Text(0, 3.5, 'D')]"
      ]
     },
     "execution_count": 274,
     "metadata": {},
     "output_type": "execute_result"
    },
    {
     "data": {
      "image/png": "[encoded data removed]",
      "text/plain": [
       "<Figure size 432x288 with 2 Axes>"
      ]
     },
     "metadata": {
      "needs_background": "light"
     },
     "output_type": "display_data"
    }
   ],
   "source": [
    "cm = confusion_matrix(y_true, y_pred, labels=le.classes_)\n",
    "ax= plt.subplot()\n",
    "sns.heatmap(cm, annot=True, ax = ax, cmap='Blues', fmt=\"d\")\n",
    "ax.set_title('Confusion Matrix')\n",
    "ax.set_xlabel('Predicted Labels')\n",
    "ax.set_ylabel('True Labels')\n",
    "ax.xaxis.set_ticklabels(le.classes_)\n",
    "ax.yaxis.set_ticklabels(le.classes_)"
   ]
  },
  {
   "cell_type": "code",
   "execution_count": null,
   "metadata": {},
   "outputs": [],
   "source": []
  },
  {
   "cell_type": "code",
   "execution_count": null,
   "metadata": {},
   "outputs": [],
   "source": []
  }
 ],
 "metadata": {
  "kernelspec": {
   "display_name": "Python 3.7.3 64-bit ('base': conda)",
   "language": "python",
   "name": "python37364bitbaseconda69d9710365c043c5b89d0ae8c5eef1cc"
  },
  "language_info": {
   "codemirror_mode": {
    "name": "ipython",
    "version": 3
   },
   "file_extension": ".py",
   "mimetype": "text/x-python",
   "name": "python",
   "nbconvert_exporter": "python",
   "pygments_lexer": "ipython3",
   "version": "3.7.3"
  }
 },
 "nbformat": 4,
 "nbformat_minor": 2
}

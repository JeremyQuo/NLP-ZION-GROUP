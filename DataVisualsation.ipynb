{
 "cells": [
  {
   "cell_type": "code",
   "execution_count": 1,
   "metadata": {},
   "outputs": [],
   "source": [
    "import pandas as pd\n",
    "from gensim import corpora, models, similarities\n",
    "from nltk.tokenize import TweetTokenizer\n",
    "import numpy as np\n",
    "import matplotlib.pyplot as plt\n",
    "import seaborn as sns\n",
    "from sklearn import preprocessing"
   ]
  },
  {
   "cell_type": "code",
   "execution_count": 9,
   "metadata": {},
   "outputs": [],
   "source": [
    "MCTest_df = pd.read_csv('std_data/MCTest/mc500/mc500.train.csv',index_col=0)\n",
    "Race_df = pd.read_csv('std_data/RACE/middle/train.csv',index_col=0)\n",
    "Dream_df = pd.read_csv('std_data/Dream/train.csv')"
   ]
  },
  {
   "cell_type": "code",
   "execution_count": 6,
   "metadata": {},
   "outputs": [
    {
     "name": "stdout",
     "output_type": "stream",
     "text": [
      "['id', 'author', 'work_times', 'article', 'question_type', 'question', 'A', 'B', 'C', 'D', 'answer']\n"
     ]
    }
   ],
   "source": [
    "#train_df = train_df[(train_df.question_type=='one')].reset_index(drop=True)\n",
    "print(list(train_df.columns))\n"
   ]
  },
  {
   "cell_type": "code",
   "execution_count": 47,
   "metadata": {},
   "outputs": [
    {
     "name": "stdout",
     "output_type": "stream",
     "text": [
      "<class 'pandas.core.frame.DataFrame'>\n",
      "Int64Index: 1200 entries, 0 to 1199\n",
      "Data columns (total 12 columns):\n",
      "id               1200 non-null object\n",
      "author           1200 non-null int64\n",
      "work_times       1200 non-null object\n",
      "article          1200 non-null object\n",
      "question_type    1200 non-null object\n",
      "question         1200 non-null object\n",
      "A                1200 non-null object\n",
      "B                1200 non-null object\n",
      "C                1200 non-null object\n",
      "D                1200 non-null object\n",
      "answer           1200 non-null object\n",
      "answerEnc        1200 non-null int64\n",
      "dtypes: int64(2), object(10)\n",
      "memory usage: 161.9+ KB\n"
     ]
    }
   ],
   "source": [
    "MCTest_df.info()"
   ]
  },
  {
   "cell_type": "code",
   "execution_count": 40,
   "metadata": {},
   "outputs": [
    {
     "data": {
      "text/plain": [
       "<matplotlib.axes._subplots.AxesSubplot at 0x7f8a6d44f898>"
      ]
     },
     "execution_count": 40,
     "metadata": {},
     "output_type": "execute_result"
    },
    {
     "data": {
      "image/png": "[encoded data removed]",
      "text/plain": [
       "<Figure size 432x288 with 1 Axes>"
      ]
     },
     "metadata": {
      "needs_background": "light"
     },
     "output_type": "display_data"
    }
   ],
   "source": [
    "MCTest_df.answer.value_counts().plot(kind='bar')"
   ]
  },
  {
   "cell_type": "code",
   "execution_count": 48,
   "metadata": {},
   "outputs": [
    {
     "data": {
      "text/plain": [
       "<matplotlib.axes._subplots.AxesSubplot at 0x7f8a700187b8>"
      ]
     },
     "execution_count": 48,
     "metadata": {},
     "output_type": "execute_result"
    },
    {
     "data": {
      "image/png": "[encoded data removed]",
      "text/plain": [
       "<Figure size 432x288 with 1 Axes>"
      ]
     },
     "metadata": {
      "needs_background": "light"
     },
     "output_type": "display_data"
    }
   ],
   "source": [
    "Race_df.answer.value_counts().plot(kind='bar')"
   ]
  },
  {
   "cell_type": "code",
   "execution_count": 57,
   "metadata": {},
   "outputs": [],
   "source": [
    "answer=[]\n",
    "for (ans,A,B,C) in zip(Dream_df.Answer,Dream_df.Choice1,Dream_df.Choice2,Dream_df.Choice3):\n",
    "    if ans == A:\n",
    "       answer.append('A') \n",
    "    elif ans == B:\n",
    "       answer.append('B') \n",
    "    elif ans == C:\n",
    "       answer.append('C') \n",
    "    elif ans == D:\n",
    "       answer.append('D') \n",
    "    \n",
    "Dream_df['answer'] = answer"
   ]
  },
  {
   "cell_type": "code",
   "execution_count": 58,
   "metadata": {},
   "outputs": [
    {
     "data": {
      "text/plain": [
       "<matplotlib.axes._subplots.AxesSubplot at 0x7f8a702417f0>"
      ]
     },
     "execution_count": 58,
     "metadata": {},
     "output_type": "execute_result"
    },
    {
     "data": {
      "image/png": "[encoded data removed]",
      "text/plain": [
       "<Figure size 432x288 with 1 Axes>"
      ]
     },
     "metadata": {
      "needs_background": "light"
     },
     "output_type": "display_data"
    }
   ],
   "source": [
    "Dream_df.answer.value_counts().plot(kind='bar')"
   ]
  },
  {
   "cell_type": "code",
   "execution_count": null,
   "metadata": {},
   "outputs": [],
   "source": []
  }
 ],
 "metadata": {
  "kernelspec": {
   "display_name": "Python 3.7.3 64-bit ('base': conda)",
   "language": "python",
   "name": "python37364bitbaseconda69d9710365c043c5b89d0ae8c5eef1cc"
  },
  "language_info": {
   "codemirror_mode": {
    "name": "ipython",
    "version": 3
   },
   "file_extension": ".py",
   "mimetype": "text/x-python",
   "name": "python",
   "nbconvert_exporter": "python",
   "pygments_lexer": "ipython3",
   "version": "3.7.3"
  }
 },
 "nbformat": 4,
 "nbformat_minor": 2
}
